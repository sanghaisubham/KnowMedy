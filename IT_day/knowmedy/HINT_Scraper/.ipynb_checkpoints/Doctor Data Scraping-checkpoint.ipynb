{
 "cells": [
  {
   "cell_type": "code",
   "execution_count": 3,
   "metadata": {
    "collapsed": true
   },
   "outputs": [],
   "source": [
    "import requests\n",
    "import json\n",
    "\n",
    "send_url = 'http://freegeoip.net/json'\n",
    "r = requests.get(send_url)\n",
    "j = json.loads(r.text)\n",
    "lat = j['latitude']\n",
    "lon = j['longitude']"
   ]
  },
  {
   "cell_type": "code",
   "execution_count": 4,
   "metadata": {},
   "outputs": [
    {
     "data": {
      "text/plain": [
       "{'city': 'Jaipur',\n",
       " 'country_code': 'IN',\n",
       " 'country_name': 'India',\n",
       " 'ip': '103.203.139.3',\n",
       " 'latitude': 26.9167,\n",
       " 'longitude': 75.8167,\n",
       " 'metro_code': 0,\n",
       " 'region_code': 'RJ',\n",
       " 'region_name': 'Rajasthan',\n",
       " 'time_zone': 'Asia/Kolkata',\n",
       " 'zip_code': ''}"
      ]
     },
     "execution_count": 4,
     "metadata": {},
     "output_type": "execute_result"
    }
   ],
   "source": [
    "j"
   ]
  },
  {
   "cell_type": "code",
   "execution_count": 6,
   "metadata": {},
   "outputs": [
    {
     "name": "stdout",
     "output_type": "stream",
     "text": [
      "Jaipur, Rajasthan, India. (lat, lng) = (26.9167, 75.8167)\n"
     ]
    }
   ],
   "source": [
    "# Using Python requests and the Google Maps Geocoding API.\n",
    "#\n",
    "# References:\n",
    "#\n",
    "# * http://docs.python-requests.org/en/latest/\n",
    "# * https://developers.google.com/maps/\n",
    "\n",
    "import requests\n",
    "\n",
    "GOOGLE_MAPS_API_URL = 'http://maps.googleapis.com/maps/api/geocode/json'\n",
    "\n",
    "params = {\n",
    "    'address': 'Jaipur',\n",
    "    'sensor': 'false',\n",
    "    'region': 'India'\n",
    "}\n",
    "\n",
    "# Do the request and get the response data\n",
    "req = requests.get(GOOGLE_MAPS_API_URL, params=params)\n",
    "res = req.json()\n",
    "\n",
    "# Use the first result\n",
    "result = res['results'][0]\n",
    "\n",
    "geodata = dict()\n",
    "geodata['lat'] = lat\n",
    "geodata['lng'] = lon\n",
    "geodata['address'] = result['formatted_address']\n",
    "\n",
    "print('{address}. (lat, lng) = ({lat}, {lng})'.format(**geodata))\n",
    "# 221B Baker Street, London, Greater London NW1 6XE, UK. (lat, lng) = (51.5237038, -0.1585531)"
   ]
  },
  {
   "cell_type": "code",
   "execution_count": null,
   "metadata": {
    "collapsed": true
   },
   "outputs": [],
   "source": []
  }
 ],
 "metadata": {
  "kernelspec": {
   "display_name": "Python 3",
   "language": "python",
   "name": "python3"
  },
  "language_info": {
   "codemirror_mode": {
    "name": "ipython",
    "version": 3
   },
   "file_extension": ".py",
   "mimetype": "text/x-python",
   "name": "python",
   "nbconvert_exporter": "python",
   "pygments_lexer": "ipython3",
   "version": "3.6.1"
  }
 },
 "nbformat": 4,
 "nbformat_minor": 2
}
